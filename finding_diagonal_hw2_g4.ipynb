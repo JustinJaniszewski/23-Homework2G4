{
  "nbformat": 4,
  "nbformat_minor": 0,
  "metadata": {
    "colab": {
      "provenance": []
    },
    "kernelspec": {
      "name": "python3",
      "display_name": "Python 3"
    },
    "language_info": {
      "name": "python"
    }
  },
  "cells": [
    {
      "cell_type": "markdown",
      "source": [
        "#Method-1: Einstein notation implementation:"
      ],
      "metadata": {
        "id": "Vf3F67IYtfHA"
      }
    },
    {
      "cell_type": "code",
      "source": [
        "# Function to find the diagonal using Einstein summation notation\n",
        "def diagonal(matrix):\n",
        "    return np.einsum(\"ii->i\", matrix)\n",
        "\n",
        "# Unit test and time measurement\n",
        "if __name__ == \"__main__\":\n",
        "    # Create a sample 3x3 matrix\n",
        "    matrix = np.array([[1, 2, 3],\n",
        "                       [4, 5, 6],\n",
        "                       [7, 8, 9]])\n",
        "\n",
        "    # Measure the execution time in microsecond\n",
        "    start_time = int(time.time()* 1_000_000)\n",
        "    diagonal_elements = diagonal(matrix)\n",
        "    end_time = int(time.time()* 1_000_000)\n",
        "\n",
        "    # Calculate the execution time in microsecond\n",
        "    ein_time = end_time - start_time\n",
        "\n",
        "    print(\"Diagonal elements:\", diagonal_elements)\n",
        "    print(\"Einstein summation execution time:\", ein_time, \"Microseconds\")"
      ],
      "metadata": {
        "colab": {
          "base_uri": "https://localhost:8080/"
        },
        "id": "OsQXDOlrzryG",
        "outputId": "93de891b-705f-41b2-b03a-60039d216fe5"
      },
      "execution_count": 45,
      "outputs": [
        {
          "output_type": "stream",
          "name": "stdout",
          "text": [
            "Diagonal elements: [1 5 9]\n",
            "Einstein summation execution time: 17 Microseconds\n"
          ]
        }
      ]
    },
    {
      "cell_type": "markdown",
      "source": [
        "# Method-2: Naive Loop-Based Implementation:\n",
        "Code for finding a specific matrix of 3x3 dimension"
      ],
      "metadata": {
        "id": "n7M9ek0rXkoN"
      }
    },
    {
      "cell_type": "code",
      "source": [
        "import numpy as np\n",
        "import time\n",
        "\n",
        "def diagonal_elements(matrix):\n",
        "    n = len(matrix)\n",
        "    diagonal = []\n",
        "\n",
        "    # Start measuring time for the loop\n",
        "    start_time = int(time.time()* 1_000_000)\n",
        "\n",
        "    for i in range(n):\n",
        "        diagonal.append(matrix[i][i])\n",
        "\n",
        "    # End measuring time for the loop in microsecond\n",
        "    end_time = int(time.time()* 1_000_000)\n",
        "    loop_execution_time = end_time - start_time   #This calculates the total time for executing this loop\n",
        "\n",
        "    return diagonal, loop_execution_time\n",
        "\n",
        "# Example Unit Test:\n",
        "matrix = [[1,2,3],\n",
        "          [4,5,6],\n",
        "          [7,8,9]]                # Replace with your matrix\n",
        "diagonal, loop_time = diagonal_elements(matrix)\n",
        "naive_time=loop_time\n",
        "print(\"Diagonal elements:\", diagonal)\n",
        "print(\"Loop execution time:\",naive_time, \"Microseconds\")"
      ],
      "metadata": {
        "colab": {
          "base_uri": "https://localhost:8080/"
        },
        "id": "YcVKBuFiXekd",
        "outputId": "1824d2d9-9f2c-4d9e-8409-392ef3ca39d4"
      },
      "execution_count": 46,
      "outputs": [
        {
          "output_type": "stream",
          "name": "stdout",
          "text": [
            "Diagonal elements: [1, 5, 9]\n",
            "Loop execution time: 3 Microseconds\n"
          ]
        }
      ]
    },
    {
      "cell_type": "markdown",
      "source": [
        "## Method-3: NumPy Implementation:"
      ],
      "metadata": {
        "id": "1pDsXRzIYkwV"
      }
    },
    {
      "cell_type": "code",
      "source": [
        "import numpy as np\n",
        "import time\n",
        "\n",
        "def diagonal_elements(matrix):\n",
        "    # Start measuring time for the NumPy operation\n",
        "    start_time = int(time.time()* 1_000_000)\n",
        "\n",
        "    diagonal = np.diag(matrix)\n",
        "\n",
        "    # End measuring time for the NumPy operation\n",
        "    end_time = int(time.time()* 1_000_000)\n",
        "    numpy_execution_time = end_time - start_time    #This calculates the total time for executing this loop\n",
        "\n",
        "    return diagonal, numpy_execution_time\n",
        "\n",
        "# Example Unit Test:\n",
        "#matrix = np.random.rand(3,3)  # Replace with your matrix\n",
        "matrix = [[1,2,3],\n",
        "          [4,5,6],\n",
        "          [7,8,9]]\n",
        "\n",
        "diagonal, numpy_time = diagonal_elements(matrix)\n",
        "print(\"Diagonal elements:\", diagonal)\n",
        "print(\"NumPy execution time:\", numpy_time,\"Microseconds\")\n"
      ],
      "metadata": {
        "colab": {
          "base_uri": "https://localhost:8080/"
        },
        "id": "BQmUGHTeYvOY",
        "outputId": "0f9a6b75-1bf0-4235-e25f-25016bb7af57"
      },
      "execution_count": 47,
      "outputs": [
        {
          "output_type": "stream",
          "name": "stdout",
          "text": [
            "Diagonal elements: [1 5 9]\n",
            "NumPy execution time: 38 Microseconds\n"
          ]
        }
      ]
    },
    {
      "cell_type": "markdown",
      "source": [
        "# Method-4: TensorFlow Implementation (with GPU):"
      ],
      "metadata": {
        "id": "07jmr4UxZbBO"
      }
    },
    {
      "cell_type": "code",
      "source": [
        "import tensorflow as tf\n",
        "import time\n",
        "\n",
        "def diagonal_elements(matrix):\n",
        "    # Start measuring time for the TensorFlow operation\n",
        "    start_time = int(time.time()* 1_000_000)\n",
        "\n",
        "    with tf.device('/GPU:0'):\n",
        "        diagonal = tf.linalg.diag_part(matrix)\n",
        "\n",
        "    # End measuring time for the TensorFlow operation\n",
        "    end_time = int(time.time()* 1_000_000)\n",
        "    tensorflow_execution_time = end_time - start_time   #This calculates the total time for executing this loop\n",
        "\n",
        "    return diagonal.numpy(), tensorflow_execution_time\n",
        "\n",
        "# Example Unit Test:\n",
        "#matrix = tf.constant(np.random.rand(3, 3), dtype=tf.float32)  # Replace with your matrix\n",
        "matrix = [[1,2,3],\n",
        "          [4,5,6],\n",
        "          [7,8,9]]\n",
        "\n",
        "diagonal, tensor_time = diagonal_elements(matrix)\n",
        "tensor_time\n",
        "print(\"Diagonal elements:\", diagonal)\n",
        "print(\"TensorFlow execution time:\", tensor_time, \"Microseconds\")\n"
      ],
      "metadata": {
        "colab": {
          "base_uri": "https://localhost:8080/"
        },
        "id": "_-azzQqKZgip",
        "outputId": "3a9998e7-8bb2-4661-df7f-981c26481bad"
      },
      "execution_count": 48,
      "outputs": [
        {
          "output_type": "stream",
          "name": "stdout",
          "text": [
            "Diagonal elements: [1 5 9]\n",
            "TensorFlow execution time: 578 Microseconds\n"
          ]
        }
      ]
    },
    {
      "cell_type": "markdown",
      "source": [
        "# Time consumption comparison of different implementations"
      ],
      "metadata": {
        "id": "eDwde1jEfPlJ"
      }
    },
    {
      "cell_type": "code",
      "source": [
        "import matplotlib.pyplot as plt\n",
        "\n",
        "# Create a list of element names and their values\n",
        "elements = [\"Einstein Notation\",\"Naive Loop\", \"NumPy\", \"TensorFlow\"]\n",
        "values = [ein_time, naive_time, numpy_time,tensor_time]\n",
        "\n",
        "# Create a bar chart of the element values\n",
        "plt.bar(elements, values)\n",
        "\n",
        "plt.bar(elements, values, color=[\"red\", \"yellow\", \"green\",\"black\"])\n",
        "\n",
        "\n",
        "# Add values on top of the bars\n",
        "for i, v in enumerate(values):\n",
        "    plt.text(i, v, str(v), ha='center', va='bottom')\n",
        "\n",
        "\n",
        "# Set the title, x-axis label, and y-axis label\n",
        "plt.title(\"Execution Time Comparision of different Implementations\")\n",
        "plt.xlabel(\"Methods\")\n",
        "plt.ylabel(\"Time (microsecond)\")\n",
        "\n",
        "# Show the bar chart\n",
        "plt.show()\n"
      ],
      "metadata": {
        "colab": {
          "base_uri": "https://localhost:8080/",
          "height": 472
        },
        "id": "Ha_PfpROb1Qk",
        "outputId": "66896e81-6f83-440f-f505-7fc220240f66"
      },
      "execution_count": 49,
      "outputs": [
        {
          "output_type": "display_data",
          "data": {
            "text/plain": [
              "<Figure size 640x480 with 1 Axes>"
            ],
            "image/png": "[encoded data removed]"
          },
          "metadata": {}
        }
      ]
    },
    {
      "cell_type": "code",
      "source": [],
      "metadata": {
        "id": "Zo0apjro3kSc"
      },
      "execution_count": 49,
      "outputs": []
    }
  ]
}