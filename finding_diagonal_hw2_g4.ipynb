{
  "nbformat": 4,
  "nbformat_minor": 0,
  "metadata": {
    "colab": {
      "provenance": []
    },
    "kernelspec": {
      "name": "python3",
      "display_name": "Python 3"
    },
    "language_info": {
      "name": "python"
    }
  },
  "cells": [
    {
      "cell_type": "markdown",
      "source": [
        "# Method-1: Naive Loop-Based Implementation:\n",
        "Code for finding a specific matrix of 3x3 dimension"
      ],
      "metadata": {
        "id": "n7M9ek0rXkoN"
      }
    },
    {
      "cell_type": "code",
      "source": [
        "import numpy as np\n",
        "import time\n",
        "\n",
        "def diagonal_elements(matrix):\n",
        "    n = len(matrix)\n",
        "    diagonal = []\n",
        "\n",
        "    # Start measuring time for the loop\n",
        "    start_time = time.time()\n",
        "\n",
        "    for i in range(n):\n",
        "        diagonal.append(matrix[i][i])\n",
        "\n",
        "    # End measuring time for the loop\n",
        "    end_time = time.time()\n",
        "    loop_execution_time = end_time - start_time   #This calculates the total time for executing this loop\n",
        "\n",
        "    return diagonal, loop_execution_time\n",
        "\n",
        "# Example Unit Test:\n",
        "matrix = [[1,2,3],\n",
        "          [4,5,6],\n",
        "          [7,8,9]]                # Replace with your matrix\n",
        "diagonal, loop_time = diagonal_elements(matrix)\n",
        "m1=loop_time\n",
        "print(\"Diagonal elements:\", diagonal)\n",
        "print(\"Loop execution time:\", m1)"
      ],
      "metadata": {
        "colab": {
          "base_uri": "https://localhost:8080/"
        },
        "id": "YcVKBuFiXekd",
        "outputId": "ee8a8481-fd00-4842-8260-099283f623e0"
      },
      "execution_count": 1,
      "outputs": [
        {
          "output_type": "stream",
          "name": "stdout",
          "text": [
            "Diagonal elements: [1, 5, 9]\n",
            "Loop execution time: 2.1457672119140625e-06\n"
          ]
        }
      ]
    },
    {
      "cell_type": "markdown",
      "source": [
        "## Method-2: NumPy Implementation:"
      ],
      "metadata": {
        "id": "1pDsXRzIYkwV"
      }
    },
    {
      "cell_type": "code",
      "source": [
        "import numpy as np\n",
        "import time\n",
        "\n",
        "def diagonal_elements(matrix):\n",
        "    # Start measuring time for the NumPy operation\n",
        "    start_time = time.time()\n",
        "\n",
        "    diagonal = np.diag(matrix)\n",
        "\n",
        "    # End measuring time for the NumPy operation\n",
        "    end_time = time.time()\n",
        "    numpy_execution_time = end_time - start_time    #This calculates the total time for executing this loop\n",
        "\n",
        "    return diagonal, numpy_execution_time\n",
        "\n",
        "# Example Unit Test:\n",
        "#matrix = np.random.rand(3,3)  # Replace with your matrix\n",
        "matrix = [[1,2,3],\n",
        "          [4,5,6],\n",
        "          [7,8,9]]\n",
        "\n",
        "diagonal, numpy_time = diagonal_elements(matrix)\n",
        "m2=numpy_time\n",
        "print(\"Diagonal elements:\", diagonal)\n",
        "print(\"NumPy execution time:\", m2)\n"
      ],
      "metadata": {
        "colab": {
          "base_uri": "https://localhost:8080/"
        },
        "id": "BQmUGHTeYvOY",
        "outputId": "35b7f40d-9006-4063-9811-32b94b6297c6"
      },
      "execution_count": 2,
      "outputs": [
        {
          "output_type": "stream",
          "name": "stdout",
          "text": [
            "Diagonal elements: [1 5 9]\n",
            "NumPy execution time: 6.604194641113281e-05\n"
          ]
        }
      ]
    },
    {
      "cell_type": "markdown",
      "source": [
        "# Method-3: TensorFlow Implementation (with GPU):"
      ],
      "metadata": {
        "id": "07jmr4UxZbBO"
      }
    },
    {
      "cell_type": "code",
      "source": [
        "import tensorflow as tf\n",
        "import time\n",
        "\n",
        "def diagonal_elements(matrix):\n",
        "    # Start measuring time for the TensorFlow operation\n",
        "    start_time = time.time()\n",
        "\n",
        "    with tf.device('/GPU:0'):\n",
        "        diagonal = tf.linalg.diag_part(matrix)\n",
        "\n",
        "    # End measuring time for the TensorFlow operation\n",
        "    end_time = time.time()\n",
        "    tensorflow_execution_time = end_time - start_time   #This calculates the total time for executing this loop\n",
        "\n",
        "    return diagonal.numpy(), tensorflow_execution_time\n",
        "\n",
        "# Example Unit Test:\n",
        "#matrix = tf.constant(np.random.rand(3, 3), dtype=tf.float32)  # Replace with your matrix\n",
        "matrix = [[1,2,3],\n",
        "          [4,5,6],\n",
        "          [7,8,9]]\n",
        "\n",
        "diagonal, tensorflow_time = diagonal_elements(matrix)\n",
        "m3=tensorflow_time\n",
        "print(\"Diagonal elements:\", diagonal)\n",
        "print(\"TensorFlow execution time:\", m3)\n"
      ],
      "metadata": {
        "colab": {
          "base_uri": "https://localhost:8080/"
        },
        "id": "_-azzQqKZgip",
        "outputId": "dbb98714-9de9-4f72-a013-2ede2a5faaab"
      },
      "execution_count": 3,
      "outputs": [
        {
          "output_type": "stream",
          "name": "stdout",
          "text": [
            "Diagonal elements: [1 5 9]\n",
            "TensorFlow execution time: 0.0962362289428711\n"
          ]
        }
      ]
    },
    {
      "cell_type": "markdown",
      "source": [
        "# Time consumption comparison of different implementations"
      ],
      "metadata": {
        "id": "eDwde1jEfPlJ"
      }
    },
    {
      "cell_type": "code",
      "source": [
        "import matplotlib.pyplot as plt\n",
        "\n",
        "# Create a list of element names and their values\n",
        "elements = [\"Naive Loop\", \"NumPy\", \"TensorFlow\"]\n",
        "values = [0.0000021457672119140625, 0.00007557868957519531, 0.0019850730895996094]\n",
        "\n",
        "# Create a bar chart of the element values\n",
        "plt.bar(elements, values)\n",
        "\n",
        "plt.bar(elements, values, color=[\"red\", \"yellow\", \"green\"])\n",
        "\n",
        "# Set the title, x-axis label, and y-axis label\n",
        "plt.title(\"Execution Time Comparision of different Implementations\")\n",
        "plt.xlabel(\"Methods\")\n",
        "plt.ylabel(\"Values\")\n",
        "\n",
        "# Show the bar chart\n",
        "plt.show()\n"
      ],
      "metadata": {
        "colab": {
          "base_uri": "https://localhost:8080/",
          "height": 472
        },
        "id": "Ha_PfpROb1Qk",
        "outputId": "188520a1-7a5b-47e1-c183-03bf9595d29f"
      },
      "execution_count": 4,
      "outputs": [
        {
          "output_type": "display_data",
          "data": {
            "text/plain": [
              "<Figure size 640x480 with 1 Axes>"
            ],
            "image/png": "[encoded data removed]"
          },
          "metadata": {}
        }
      ]
    },
    {
      "cell_type": "code",
      "source": [],
      "metadata": {
        "id": "bgGg1cGfcwUf"
      },
      "execution_count": 4,
      "outputs": []
    }
  ]
}